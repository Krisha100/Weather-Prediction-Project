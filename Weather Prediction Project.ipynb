{
 "cells": [
  {
   "cell_type": "markdown",
   "id": "92920ea3",
   "metadata": {},
   "source": [
    "# Weather Prediction Project \n",
    "##### Name: Krisha Vekaria"
   ]
  },
  {
   "cell_type": "markdown",
   "id": "4f8e9a2a",
   "metadata": {},
   "source": [
    "I got the weather history data set from Kaggle( https://www.kaggle.com/datasets/muthuj7/weather-dataset). It has classic column variables that are related to weather and impact the weather in some way or another. Dataset has 96453 rows and 12 columns in total. All columns are 100% valid. \n",
    "\n",
    "I am going to predict the Precip Type, that is, if it is going to rain or snow based on this data set."
   ]
  },
  {
   "cell_type": "code",
   "execution_count": 1,
   "id": "28042766",
   "metadata": {},
   "outputs": [],
   "source": [
    "import pandas as pd\n",
    "import numpy as np\n",
    "import matplotlib.pyplot as plt\n",
    "import seaborn as sns\n",
    "%matplotlib inline"
   ]
  },
  {
   "cell_type": "code",
   "execution_count": 2,
   "id": "f13d0d3c",
   "metadata": {},
   "outputs": [
    {
     "data": {
      "text/html": [
       "<div>\n",
       "<style scoped>\n",
       "    .dataframe tbody tr th:only-of-type {\n",
       "        vertical-align: middle;\n",
       "    }\n",
       "\n",
       "    .dataframe tbody tr th {\n",
       "        vertical-align: top;\n",
       "    }\n",
       "\n",
       "    .dataframe thead th {\n",
       "        text-align: right;\n",
       "    }\n",
       "</style>\n",
       "<table border=\"1\" class=\"dataframe\">\n",
       "  <thead>\n",
       "    <tr style=\"text-align: right;\">\n",
       "      <th></th>\n",
       "      <th>Formatted Date</th>\n",
       "      <th>Summary</th>\n",
       "      <th>Precip Type</th>\n",
       "      <th>Temperature (C)</th>\n",
       "      <th>Apparent Temperature (C)</th>\n",
       "      <th>Humidity</th>\n",
       "      <th>Wind Speed (km/h)</th>\n",
       "      <th>Wind Bearing (degrees)</th>\n",
       "      <th>Visibility (km)</th>\n",
       "      <th>Loud Cover</th>\n",
       "      <th>Pressure (millibars)</th>\n",
       "      <th>Daily Summary</th>\n",
       "    </tr>\n",
       "  </thead>\n",
       "  <tbody>\n",
       "    <tr>\n",
       "      <th>0</th>\n",
       "      <td>2006-04-01 00:00:00.000 +0200</td>\n",
       "      <td>Partly Cloudy</td>\n",
       "      <td>rain</td>\n",
       "      <td>9.472222</td>\n",
       "      <td>7.388889</td>\n",
       "      <td>0.89</td>\n",
       "      <td>14.1197</td>\n",
       "      <td>251.0</td>\n",
       "      <td>15.8263</td>\n",
       "      <td>0.0</td>\n",
       "      <td>1015.13</td>\n",
       "      <td>Partly cloudy throughout the day.</td>\n",
       "    </tr>\n",
       "    <tr>\n",
       "      <th>1</th>\n",
       "      <td>2006-04-01 01:00:00.000 +0200</td>\n",
       "      <td>Partly Cloudy</td>\n",
       "      <td>rain</td>\n",
       "      <td>9.355556</td>\n",
       "      <td>7.227778</td>\n",
       "      <td>0.86</td>\n",
       "      <td>14.2646</td>\n",
       "      <td>259.0</td>\n",
       "      <td>15.8263</td>\n",
       "      <td>0.0</td>\n",
       "      <td>1015.63</td>\n",
       "      <td>Partly cloudy throughout the day.</td>\n",
       "    </tr>\n",
       "    <tr>\n",
       "      <th>2</th>\n",
       "      <td>2006-04-01 02:00:00.000 +0200</td>\n",
       "      <td>Mostly Cloudy</td>\n",
       "      <td>rain</td>\n",
       "      <td>9.377778</td>\n",
       "      <td>9.377778</td>\n",
       "      <td>0.89</td>\n",
       "      <td>3.9284</td>\n",
       "      <td>204.0</td>\n",
       "      <td>14.9569</td>\n",
       "      <td>0.0</td>\n",
       "      <td>1015.94</td>\n",
       "      <td>Partly cloudy throughout the day.</td>\n",
       "    </tr>\n",
       "    <tr>\n",
       "      <th>3</th>\n",
       "      <td>2006-04-01 03:00:00.000 +0200</td>\n",
       "      <td>Partly Cloudy</td>\n",
       "      <td>rain</td>\n",
       "      <td>8.288889</td>\n",
       "      <td>5.944444</td>\n",
       "      <td>0.83</td>\n",
       "      <td>14.1036</td>\n",
       "      <td>269.0</td>\n",
       "      <td>15.8263</td>\n",
       "      <td>0.0</td>\n",
       "      <td>1016.41</td>\n",
       "      <td>Partly cloudy throughout the day.</td>\n",
       "    </tr>\n",
       "    <tr>\n",
       "      <th>4</th>\n",
       "      <td>2006-04-01 04:00:00.000 +0200</td>\n",
       "      <td>Mostly Cloudy</td>\n",
       "      <td>rain</td>\n",
       "      <td>8.755556</td>\n",
       "      <td>6.977778</td>\n",
       "      <td>0.83</td>\n",
       "      <td>11.0446</td>\n",
       "      <td>259.0</td>\n",
       "      <td>15.8263</td>\n",
       "      <td>0.0</td>\n",
       "      <td>1016.51</td>\n",
       "      <td>Partly cloudy throughout the day.</td>\n",
       "    </tr>\n",
       "  </tbody>\n",
       "</table>\n",
       "</div>"
      ],
      "text/plain": [
       "                  Formatted Date        Summary Precip Type  Temperature (C)  \\\n",
       "0  2006-04-01 00:00:00.000 +0200  Partly Cloudy        rain         9.472222   \n",
       "1  2006-04-01 01:00:00.000 +0200  Partly Cloudy        rain         9.355556   \n",
       "2  2006-04-01 02:00:00.000 +0200  Mostly Cloudy        rain         9.377778   \n",
       "3  2006-04-01 03:00:00.000 +0200  Partly Cloudy        rain         8.288889   \n",
       "4  2006-04-01 04:00:00.000 +0200  Mostly Cloudy        rain         8.755556   \n",
       "\n",
       "   Apparent Temperature (C)  Humidity  Wind Speed (km/h)  \\\n",
       "0                  7.388889      0.89            14.1197   \n",
       "1                  7.227778      0.86            14.2646   \n",
       "2                  9.377778      0.89             3.9284   \n",
       "3                  5.944444      0.83            14.1036   \n",
       "4                  6.977778      0.83            11.0446   \n",
       "\n",
       "   Wind Bearing (degrees)  Visibility (km)  Loud Cover  Pressure (millibars)  \\\n",
       "0                   251.0          15.8263         0.0               1015.13   \n",
       "1                   259.0          15.8263         0.0               1015.63   \n",
       "2                   204.0          14.9569         0.0               1015.94   \n",
       "3                   269.0          15.8263         0.0               1016.41   \n",
       "4                   259.0          15.8263         0.0               1016.51   \n",
       "\n",
       "                       Daily Summary  \n",
       "0  Partly cloudy throughout the day.  \n",
       "1  Partly cloudy throughout the day.  \n",
       "2  Partly cloudy throughout the day.  \n",
       "3  Partly cloudy throughout the day.  \n",
       "4  Partly cloudy throughout the day.  "
      ]
     },
     "execution_count": 2,
     "metadata": {},
     "output_type": "execute_result"
    }
   ],
   "source": [
    "dataset = 'weatherHistory.csv'\n",
    "weather_df = pd.read_csv(dataset)\n",
    "weather_df.head()"
   ]
  },
  {
   "cell_type": "code",
   "execution_count": 3,
   "id": "4b6ad1f1",
   "metadata": {},
   "outputs": [
    {
     "data": {
      "text/plain": [
       "(96453, 12)"
      ]
     },
     "execution_count": 3,
     "metadata": {},
     "output_type": "execute_result"
    }
   ],
   "source": [
    "weather_df.shape\n"
   ]
  },
  {
   "cell_type": "markdown",
   "id": "6b99d859",
   "metadata": {},
   "source": [
    "Visualizing NaN values in Precip Type:"
   ]
  },
  {
   "cell_type": "code",
   "execution_count": 4,
   "id": "84f1670b",
   "metadata": {},
   "outputs": [
    {
     "data": {
      "text/plain": [
       "([<matplotlib.patches.Wedge at 0x7fabe69a41c0>,\n",
       "  <matplotlib.patches.Wedge at 0x7fabe69a4760>],\n",
       " [Text(-1.099844043941702, 0.018522392015159376, 'Non NaN elements'),\n",
       "  Text(1.3998015102643366, -0.023573965760608412, 'NaN elements')])"
      ]
     },
     "execution_count": 4,
     "metadata": {},
     "output_type": "execute_result"
    },
    {
     "data": {
      "image/png": "[encoded data removed]",
      "text/plain": [
       "<Figure size 432x288 with 1 Axes>"
      ]
     },
     "metadata": {},
     "output_type": "display_data"
    }
   ],
   "source": [
    "explodes = (0,0.3)\n",
    "plt.pie(weather_df['Precip Type'].isna().value_counts(),explode=explodes,startangle=0,colors=['firebrick','indianred'],\n",
    "   labels=['Non NaN elements','NaN elements'], textprops={'fontsize': 20})"
   ]
  },
  {
   "cell_type": "code",
   "execution_count": 5,
   "id": "17bd5a68",
   "metadata": {},
   "outputs": [
    {
     "data": {
      "text/plain": [
       "(95936, 12)"
      ]
     },
     "execution_count": 5,
     "metadata": {},
     "output_type": "execute_result"
    }
   ],
   "source": [
    "weather_df=weather_df.dropna()\n",
    "weather_df.shape"
   ]
  },
  {
   "cell_type": "markdown",
   "id": "c7d71517",
   "metadata": {},
   "source": [
    "Removed all null values from data set and printted out dimensions to compare to earlier dimensions."
   ]
  },
  {
   "cell_type": "code",
   "execution_count": 6,
   "id": "c2f5b7cf",
   "metadata": {},
   "outputs": [],
   "source": [
    "del weather_df['Loud Cover']"
   ]
  },
  {
   "cell_type": "markdown",
   "id": "2e5a1a15",
   "metadata": {},
   "source": [
    "As all values of Loud Cover are same that is 0 for all rows it wasn't useful part of prediction and hence I deleted the column."
   ]
  },
  {
   "cell_type": "markdown",
   "id": "a1990980",
   "metadata": {},
   "source": [
    "### Classification of columns in Categorical and Numerical features"
   ]
  },
  {
   "cell_type": "code",
   "execution_count": 7,
   "id": "7bfd6813",
   "metadata": {},
   "outputs": [
    {
     "name": "stdout",
     "output_type": "stream",
     "text": [
      "Number of Categorical Features: 4\n",
      "Categorical Features:  ['Formatted Date', 'Summary', 'Precip Type', 'Daily Summary']\n"
     ]
    }
   ],
   "source": [
    "categorical_features = [column_name for column_name in weather_df.columns if weather_df[column_name].dtype == 'O']\n",
    "print(\"Number of Categorical Features: {}\".format(len(categorical_features)))\n",
    "print(\"Categorical Features: \",categorical_features)"
   ]
  },
  {
   "cell_type": "code",
   "execution_count": 8,
   "id": "cc63e21d",
   "metadata": {},
   "outputs": [
    {
     "name": "stdout",
     "output_type": "stream",
     "text": [
      "Number of Numerical Features: 7\n",
      "Numerical Features:  ['Temperature (C)', 'Apparent Temperature (C)', 'Humidity', 'Wind Speed (km/h)', 'Wind Bearing (degrees)', 'Visibility (km)', 'Pressure (millibars)']\n"
     ]
    }
   ],
   "source": [
    "numerical_features = [column_name for column_name in weather_df.columns if weather_df[column_name].dtype != 'O']\n",
    "print(\"Number of Numerical Features: {}\".format(len(numerical_features)))\n",
    "print(\"Numerical Features: \",numerical_features)"
   ]
  },
  {
   "cell_type": "markdown",
   "id": "59581764",
   "metadata": {},
   "source": [
    "### Univariate analysis:"
   ]
  },
  {
   "cell_type": "code",
   "execution_count": 10,
   "id": "a5c967b5",
   "metadata": {},
   "outputs": [
    {
     "data": {
      "text/plain": [
       "Text(0.5, 1.0, 'Count of rain and snow')"
      ]
     },
     "execution_count": 10,
     "metadata": {},
     "output_type": "execute_result"
    },
    {
     "data": {
      "image/png": "[encoded data removed]",
      "text/plain": [
       "<Figure size 432x288 with 1 Axes>"
      ]
     },
     "metadata": {
      "needs_background": "light"
     },
     "output_type": "display_data"
    }
   ],
   "source": [
    "img = weather_df['Precip Type'].value_counts().plot(kind='bar')\n",
    "img.set_title(\"Count of rain and snow\")"
   ]
  },
  {
   "cell_type": "markdown",
   "id": "a746c279",
   "metadata": {},
   "source": [
    "The variable Precip Type is not balanced as there is more count of rain than snow."
   ]
  },
  {
   "cell_type": "markdown",
   "id": "80da8e7f",
   "metadata": {},
   "source": [
    "### Bivariate Analysis"
   ]
  },
  {
   "cell_type": "code",
   "execution_count": 11,
   "id": "71b318ea",
   "metadata": {},
   "outputs": [
    {
     "data": {
      "text/plain": [
       "Text(0.5, 1.0, 'Humidity vs Temparature')"
      ]
     },
     "execution_count": 11,
     "metadata": {},
     "output_type": "execute_result"
    },
    {
     "data": {
      "image/png": "[encoded data removed]",
      "text/plain": [
       "<Figure size 432x288 with 1 Axes>"
      ]
     },
     "metadata": {
      "needs_background": "light"
     },
     "output_type": "display_data"
    }
   ],
   "source": [
    "ax = sns.lineplot(data=weather_df,x='Temperature (C)',y='Humidity',color='green')\n",
    "ax.set_title('Humidity vs Temparature')"
   ]
  },
  {
   "cell_type": "markdown",
   "id": "4a6d402b",
   "metadata": {},
   "source": [
    "Temperature is inversely proportional to Humidity"
   ]
  },
  {
   "cell_type": "code",
   "execution_count": 12,
   "id": "680b6f77",
   "metadata": {},
   "outputs": [
    {
     "data": {
      "text/plain": [
       "Text(0.5, 1.0, 'Visibility vs Temparature')"
      ]
     },
     "execution_count": 12,
     "metadata": {},
     "output_type": "execute_result"
    },
    {
     "data": {
      "image/png": "[encoded data removed]",
      "text/plain": [
       "<Figure size 432x288 with 1 Axes>"
      ]
     },
     "metadata": {
      "needs_background": "light"
     },
     "output_type": "display_data"
    }
   ],
   "source": [
    "ax3 = sns.lineplot(data=weather_df,x='Temperature (C)',y='Visibility (km)',color='red')\n",
    "ax3.set_title('Visibility vs Temparature')"
   ]
  },
  {
   "cell_type": "markdown",
   "id": "6be2aad1",
   "metadata": {},
   "source": [
    "Temperature is directly proportional to Visibility"
   ]
  },
  {
   "cell_type": "markdown",
   "id": "1b7f6fb8",
   "metadata": {},
   "source": [
    "### Correaltion "
   ]
  },
  {
   "cell_type": "markdown",
   "id": "74edcec2",
   "metadata": {},
   "source": [
    "I created a correlation matrix to understand how much correaltion exists between different variables. As values in the top right of matrix are mirrored image of bottom left with 1 correlation on diagonal, I just plotted bottom left of matrix."
   ]
  },
  {
   "cell_type": "code",
   "execution_count": 13,
   "id": "82c1ef70",
   "metadata": {},
   "outputs": [
    {
     "data": {
      "text/plain": [
       "<AxesSubplot:>"
      ]
     },
     "execution_count": 13,
     "metadata": {},
     "output_type": "execute_result"
    },
    {
     "data": {
      "image/png": "[encoded data removed]",
      "text/plain": [
       "<Figure size 720x720 with 2 Axes>"
      ]
     },
     "metadata": {
      "needs_background": "light"
     },
     "output_type": "display_data"
    }
   ],
   "source": [
    "plt.figure(figsize=(10,10))\n",
    "matrix=weather_df.corr().round(2)\n",
    "mask = np.triu(np.ones_like(matrix, dtype=bool))\n",
    "sns.heatmap(matrix, linewidths=0.5, annot=True, fmt=\".2f\",vmax=1, vmin=-1, center=0, cmap='vlag', mask=mask)\n"
   ]
  },
  {
   "cell_type": "markdown",
   "id": "e4f2ac02",
   "metadata": {},
   "source": [
    "As Apparent Temperature and Temperature are higly correlated, one of them can be dropped."
   ]
  },
  {
   "cell_type": "code",
   "execution_count": 14,
   "id": "d4d6697d",
   "metadata": {},
   "outputs": [],
   "source": [
    "weather_df.drop('Apparent Temperature (C)',axis=1,inplace=True)"
   ]
  },
  {
   "cell_type": "markdown",
   "id": "639cf284",
   "metadata": {},
   "source": [
    "### Converting categortical data to numerical data for further usage in Logistic Regression algorithm"
   ]
  },
  {
   "cell_type": "code",
   "execution_count": 15,
   "id": "9caeb269",
   "metadata": {},
   "outputs": [],
   "source": [
    "def encode_data(feature_name):\n",
    "\n",
    "    mapping_dict = {}\n",
    "\n",
    "    unique_values = list(weather_df[feature_name].unique())\n",
    "\n",
    "    for idx in range(len(unique_values)):\n",
    "\n",
    "        mapping_dict[unique_values[idx]] = idx\n",
    "\n",
    "    return mapping_dict\n",
    "\n",
    "\n",
    "weather_df['Formatted Date'].replace(encode_data('Formatted Date'), inplace=True)\n",
    "weather_df['Summary'].replace(encode_data('Summary'), inplace=True)\n",
    "weather_df['Precip Type'].replace({'snow':0, 'rain': 1},inplace=True)\n",
    "weather_df['Daily Summary'].replace(encode_data('Daily Summary'), inplace=True)\n",
    "\n"
   ]
  },
  {
   "cell_type": "code",
   "execution_count": 16,
   "id": "e52d6b19",
   "metadata": {},
   "outputs": [
    {
     "data": {
      "text/html": [
       "<div>\n",
       "<style scoped>\n",
       "    .dataframe tbody tr th:only-of-type {\n",
       "        vertical-align: middle;\n",
       "    }\n",
       "\n",
       "    .dataframe tbody tr th {\n",
       "        vertical-align: top;\n",
       "    }\n",
       "\n",
       "    .dataframe thead th {\n",
       "        text-align: right;\n",
       "    }\n",
       "</style>\n",
       "<table border=\"1\" class=\"dataframe\">\n",
       "  <thead>\n",
       "    <tr style=\"text-align: right;\">\n",
       "      <th></th>\n",
       "      <th>Formatted Date</th>\n",
       "      <th>Summary</th>\n",
       "      <th>Precip Type</th>\n",
       "      <th>Temperature (C)</th>\n",
       "      <th>Humidity</th>\n",
       "      <th>Wind Speed (km/h)</th>\n",
       "      <th>Wind Bearing (degrees)</th>\n",
       "      <th>Visibility (km)</th>\n",
       "      <th>Pressure (millibars)</th>\n",
       "      <th>Daily Summary</th>\n",
       "    </tr>\n",
       "  </thead>\n",
       "  <tbody>\n",
       "    <tr>\n",
       "      <th>0</th>\n",
       "      <td>0</td>\n",
       "      <td>0</td>\n",
       "      <td>1</td>\n",
       "      <td>9.472222</td>\n",
       "      <td>0.89</td>\n",
       "      <td>14.1197</td>\n",
       "      <td>251.0</td>\n",
       "      <td>15.8263</td>\n",
       "      <td>1015.13</td>\n",
       "      <td>0</td>\n",
       "    </tr>\n",
       "    <tr>\n",
       "      <th>1</th>\n",
       "      <td>1</td>\n",
       "      <td>0</td>\n",
       "      <td>1</td>\n",
       "      <td>9.355556</td>\n",
       "      <td>0.86</td>\n",
       "      <td>14.2646</td>\n",
       "      <td>259.0</td>\n",
       "      <td>15.8263</td>\n",
       "      <td>1015.63</td>\n",
       "      <td>0</td>\n",
       "    </tr>\n",
       "    <tr>\n",
       "      <th>2</th>\n",
       "      <td>2</td>\n",
       "      <td>1</td>\n",
       "      <td>1</td>\n",
       "      <td>9.377778</td>\n",
       "      <td>0.89</td>\n",
       "      <td>3.9284</td>\n",
       "      <td>204.0</td>\n",
       "      <td>14.9569</td>\n",
       "      <td>1015.94</td>\n",
       "      <td>0</td>\n",
       "    </tr>\n",
       "    <tr>\n",
       "      <th>3</th>\n",
       "      <td>3</td>\n",
       "      <td>0</td>\n",
       "      <td>1</td>\n",
       "      <td>8.288889</td>\n",
       "      <td>0.83</td>\n",
       "      <td>14.1036</td>\n",
       "      <td>269.0</td>\n",
       "      <td>15.8263</td>\n",
       "      <td>1016.41</td>\n",
       "      <td>0</td>\n",
       "    </tr>\n",
       "    <tr>\n",
       "      <th>4</th>\n",
       "      <td>4</td>\n",
       "      <td>1</td>\n",
       "      <td>1</td>\n",
       "      <td>8.755556</td>\n",
       "      <td>0.83</td>\n",
       "      <td>11.0446</td>\n",
       "      <td>259.0</td>\n",
       "      <td>15.8263</td>\n",
       "      <td>1016.51</td>\n",
       "      <td>0</td>\n",
       "    </tr>\n",
       "  </tbody>\n",
       "</table>\n",
       "</div>"
      ],
      "text/plain": [
       "   Formatted Date  Summary  Precip Type  Temperature (C)  Humidity  \\\n",
       "0               0        0            1         9.472222      0.89   \n",
       "1               1        0            1         9.355556      0.86   \n",
       "2               2        1            1         9.377778      0.89   \n",
       "3               3        0            1         8.288889      0.83   \n",
       "4               4        1            1         8.755556      0.83   \n",
       "\n",
       "   Wind Speed (km/h)  Wind Bearing (degrees)  Visibility (km)  \\\n",
       "0            14.1197                   251.0          15.8263   \n",
       "1            14.2646                   259.0          15.8263   \n",
       "2             3.9284                   204.0          14.9569   \n",
       "3            14.1036                   269.0          15.8263   \n",
       "4            11.0446                   259.0          15.8263   \n",
       "\n",
       "   Pressure (millibars)  Daily Summary  \n",
       "0               1015.13              0  \n",
       "1               1015.63              0  \n",
       "2               1015.94              0  \n",
       "3               1016.41              0  \n",
       "4               1016.51              0  "
      ]
     },
     "execution_count": 16,
     "metadata": {},
     "output_type": "execute_result"
    }
   ],
   "source": [
    "weather_df.head()"
   ]
  },
  {
   "cell_type": "markdown",
   "id": "fb2a14a6",
   "metadata": {},
   "source": [
    "Splitting data set into independent and dependent features:"
   ]
  },
  {
   "cell_type": "code",
   "execution_count": 17,
   "id": "1e56b35c",
   "metadata": {},
   "outputs": [],
   "source": [
    "X=weather_df.drop(['Precip Type'],axis=1) #Independent features\n",
    "y=weather_df['Precip Type'] #Dependent features"
   ]
  },
  {
   "cell_type": "markdown",
   "id": "21d80d9e",
   "metadata": {},
   "source": [
    "Now I will see which features are important in terms of relevance for building the model. I will also viualize the feature importance values."
   ]
  },
  {
   "cell_type": "code",
   "execution_count": 18,
   "id": "db730257",
   "metadata": {},
   "outputs": [
    {
     "data": {
      "text/plain": [
       "array([7.87178392e-03, 4.58820349e-04, 9.18309616e-01, 5.37944689e-03,\n",
       "       6.47609280e-04, 6.18773182e-04, 6.04882231e-02, 5.16126126e-03,\n",
       "       1.06446645e-03])"
      ]
     },
     "execution_count": 18,
     "metadata": {},
     "output_type": "execute_result"
    }
   ],
   "source": [
    "from sklearn.ensemble import ExtraTreesRegressor\n",
    "etr_model = ExtraTreesRegressor()\n",
    "etr_model.fit(X,y)\n",
    "etr_model.feature_importances_"
   ]
  },
  {
   "cell_type": "code",
   "execution_count": 19,
   "id": "e8bd2fcd",
   "metadata": {},
   "outputs": [
    {
     "data": {
      "text/plain": [
       "Text(0.5, 1.0, 'Feature importance plot')"
      ]
     },
     "execution_count": 19,
     "metadata": {},
     "output_type": "execute_result"
    },
    {
     "data": {
      "image/png": "[encoded data removed]",
      "text/plain": [
       "<Figure size 432x288 with 1 Axes>"
      ]
     },
     "metadata": {
      "needs_background": "light"
     },
     "output_type": "display_data"
    }
   ],
   "source": [
    "feature_imp = pd.Series(etr_model.feature_importances_,index=X.columns)\n",
    "grph = feature_imp.nlargest(10).plot(kind='bar')\n",
    "grph.set_title(\"Feature importance plot\")"
   ]
  },
  {
   "cell_type": "markdown",
   "id": "bbe55cda",
   "metadata": {},
   "source": [
    "Temperature and Visibility are most relevant features for predicting target variable(Precip Type)."
   ]
  },
  {
   "cell_type": "markdown",
   "id": "0f868fc9",
   "metadata": {},
   "source": [
    "### Splitting the data set into testing and training sets"
   ]
  },
  {
   "cell_type": "code",
   "execution_count": 20,
   "id": "c52cca8d",
   "metadata": {},
   "outputs": [],
   "source": [
    "from sklearn.model_selection import train_test_split\n",
    "X_train, X_test, y_train, y_test = train_test_split(X,y, test_size = 0.2, random_state = 0)"
   ]
  },
  {
   "cell_type": "markdown",
   "id": "b2a6c255",
   "metadata": {},
   "source": [
    "I will perform feature scaling on data set to standardize values of independent features. This will scale the distribution such that it is centered around 0, with a standard deviation of 1."
   ]
  },
  {
   "cell_type": "code",
   "execution_count": 21,
   "id": "62d6eb39",
   "metadata": {},
   "outputs": [],
   "source": [
    "from sklearn.preprocessing import StandardScaler\n",
    "scaler = StandardScaler()\n",
    "X_train = scaler.fit_transform(X_train)\n",
    "X_test = scaler.transform(X_test)"
   ]
  },
  {
   "cell_type": "markdown",
   "id": "74d2ca6d",
   "metadata": {},
   "source": [
    "### Predicitve Model"
   ]
  },
  {
   "cell_type": "markdown",
   "id": "6a3a2943",
   "metadata": {},
   "source": [
    "Now, I will use Logistic Regression to build predictive model to decide whether it will rain or snow. "
   ]
  },
  {
   "cell_type": "markdown",
   "id": "29fb4503",
   "metadata": {},
   "source": [
    "First will create a logistic regression object that takes in independent and dependent values as paramenters and fills regression object with data."
   ]
  },
  {
   "cell_type": "code",
   "execution_count": 22,
   "id": "c8f24e38",
   "metadata": {},
   "outputs": [
    {
     "data": {
      "text/plain": [
       "LogisticRegression(random_state=0, solver='liblinear')"
      ]
     },
     "execution_count": 22,
     "metadata": {},
     "output_type": "execute_result"
    }
   ],
   "source": [
    "from sklearn.linear_model import LogisticRegression\n",
    "logr = LogisticRegression(solver='liblinear', random_state=0)\n",
    "logr.fit(X_train, y_train) "
   ]
  },
  {
   "cell_type": "markdown",
   "id": "5630f833",
   "metadata": {},
   "source": [
    "Next, we use logistic regression object to test the data."
   ]
  },
  {
   "cell_type": "code",
   "execution_count": 23,
   "id": "90d43309",
   "metadata": {},
   "outputs": [
    {
     "data": {
      "text/plain": [
       "array([1, 1, 1, ..., 1, 1, 1])"
      ]
     },
     "execution_count": 23,
     "metadata": {},
     "output_type": "execute_result"
    }
   ],
   "source": [
    "y_pred = logr.predict(X_test)\n",
    "y_pred"
   ]
  },
  {
   "cell_type": "markdown",
   "id": "8234f548",
   "metadata": {},
   "source": [
    "Evaluating performance of model:"
   ]
  },
  {
   "cell_type": "code",
   "execution_count": 24,
   "id": "f1cd3c79",
   "metadata": {},
   "outputs": [
    {
     "name": "stdout",
     "output_type": "stream",
     "text": [
      "Accuracy Score: 0.9959349593495935\n"
     ]
    }
   ],
   "source": [
    "from sklearn.metrics import accuracy_score\n",
    "print(\"Accuracy Score: {}\".format(accuracy_score(y_test,y_pred)))"
   ]
  },
  {
   "cell_type": "markdown",
   "id": "af1f09ba",
   "metadata": {},
   "source": [
    "### Classification report"
   ]
  },
  {
   "cell_type": "code",
   "execution_count": 25,
   "id": "6988288b",
   "metadata": {},
   "outputs": [
    {
     "name": "stdout",
     "output_type": "stream",
     "text": [
      "              precision    recall  f1-score   support\n",
      "\n",
      "           0       0.97      1.00      0.98      2162\n",
      "           1       1.00      1.00      1.00     17026\n",
      "\n",
      "    accuracy                           1.00     19188\n",
      "   macro avg       0.98      1.00      0.99     19188\n",
      "weighted avg       1.00      1.00      1.00     19188\n",
      "\n"
     ]
    }
   ],
   "source": [
    "from sklearn.metrics import classification_report, confusion_matrix\n",
    "print(classification_report(y_test, y_pred))\n"
   ]
  },
  {
   "cell_type": "markdown",
   "id": "b22bff0b",
   "metadata": {},
   "source": [
    "Precision shows that predidiction for snow and rain were 97% and 100% correct repsectively. Model matched 100% of positive cases based on recall. Also, f1-score shows that positive predictions for snow and rain were 98% and 100% correct respectively. Support shows actual occurences of snow and rain in specified dataset."
   ]
  },
  {
   "cell_type": "markdown",
   "id": "f0e29296",
   "metadata": {},
   "source": [
    "<font size=\"3\">*On an average model accuracy score is 0.99. So, it does a great job of predicting whether it is going to rain or snow.*</font> "
   ]
  },
  {
   "cell_type": "markdown",
   "id": "1bce2280",
   "metadata": {},
   "source": [
    "### Confusion matrix"
   ]
  },
  {
   "cell_type": "code",
   "execution_count": 27,
   "id": "5e3f4681",
   "metadata": {},
   "outputs": [
    {
     "name": "stdout",
     "output_type": "stream",
     "text": [
      "[[ 2162     0]\n",
      " [   78 16948]]\n"
     ]
    }
   ],
   "source": [
    "from sklearn.metrics import confusion_matrix\n",
    "print(confusion_matrix(y_test, y_pred))"
   ]
  },
  {
   "cell_type": "markdown",
   "id": "108ee14a",
   "metadata": {},
   "source": [
    "True positive and True negative values  sugests that precticed value matches actual value. While False positive and False negative suggests that predicted value was falsely predicted. The True positive and True negative values are 2162 and 16948 respectively. As these values are considerably larger than False positive (0) and False negative (78) values, we can double check that model is highly accurate."
   ]
  },
  {
   "cell_type": "markdown",
   "id": "74c428c3",
   "metadata": {},
   "source": [
    "### Conclusion"
   ]
  },
  {
   "cell_type": "markdown",
   "id": "9997bf12",
   "metadata": {},
   "source": [
    "Overall, I cleaned the data set and dropped least relevant columns for effective analysis. I also visualized the univariate and bivaraite analysis plots along with correlation matrix and feature importance plot for easy interpretation of data. Moving on to building a predicitve model and testing accuracy by two different methods."
   ]
  }
 ],
 "metadata": {
  "kernelspec": {
   "display_name": "Python 3 (ipykernel)",
   "language": "python",
   "name": "python3"
  },
  "language_info": {
   "codemirror_mode": {
    "name": "ipython",
    "version": 3
   },
   "file_extension": ".py",
   "mimetype": "text/x-python",
   "name": "python",
   "nbconvert_exporter": "python",
   "pygments_lexer": "ipython3",
   "version": "3.9.7"
  }
 },
 "nbformat": 4,
 "nbformat_minor": 5
}
